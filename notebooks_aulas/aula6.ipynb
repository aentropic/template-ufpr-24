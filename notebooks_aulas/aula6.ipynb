{
 "cells": [
  {
   "cell_type": "markdown",
   "metadata": {},
   "source": [
    "# Aula 6\n",
    "\n",
    "Aula cancelada pois havia reunião de departamento do DGEOG no mesmo horário."
   ]
  }
 ],
 "metadata": {
  "language_info": {
   "name": "python"
  }
 },
 "nbformat": 4,
 "nbformat_minor": 2
}

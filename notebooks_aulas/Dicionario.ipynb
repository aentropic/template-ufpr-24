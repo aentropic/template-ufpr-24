{
 "cells": [
  {
   "cell_type": "markdown",
   "metadata": {},
   "source": [
    "# Dicionário de programação Python\n",
    "\n",
    "Dicionário de expressões, termos, palavras relacionadas direta ou indiretamente com nosso Curso de Python.\n",
    "\n",
    "> Importante: não dependa apenas deste dicionário para sanar suas dúvidas. Faça uso extensivo de ferramentas de busca e páginas ou documentos similares a esse, como o [W3Schools](https://www.w3schools.com/python/python_scope.asp) - inclui tutoriais breves para os **módulos** mais populares, incluindo Pandas e Matplotlib - ou a [Documentação Oficial de Python](https://docs.python.org/pt-br/3/) (nos quais me baseei bastante para este esboço de documento).\n",
    "\n",
    "## Índice\n",
    "1. Palavras reservadas\n",
    "2. Sintaxe\n",
    "3. Termos:\n",
    "    3.1 Variáveis \n",
    "    3.2 Tipos de dados \n",
    "    3.3 Funções \n",
    "    3.4 Módulos\n"
   ]
  },
  {
   "cell_type": "markdown",
   "metadata": {},
   "source": [
    "# Termos\n",
    "- Variáveis\n",
    "- Boolean\n",
    "- Dicionários\n",
    "## Tipos de dados\n",
    "- String\n",
    "- Integral\n",
    "- Number\n",
    "- Tuple\n"
   ]
  },
  {
   "cell_type": "code",
   "execution_count": null,
   "metadata": {},
   "outputs": [],
   "source": []
  }
 ],
 "metadata": {
  "language_info": {
   "name": "python"
  }
 },
 "nbformat": 4,
 "nbformat_minor": 2
}

{
 "cells": [
  {
   "cell_type": "markdown",
   "metadata": {},
   "source": [
    "# Aula 1"
   ]
  },
  {
   "cell_type": "markdown",
   "metadata": {},
   "source": [
    "### Introduções\n",
    "Primeiramente apresentaram-se os instrutores do curso e o Núcleo de Tecnologia do MTST, por onde eles estão ofertando este curso.\n",
    "\n",
    "Em seguida, pediram para que todos enviassem uma mensagem se introduzindo com mais detalhes no canal `#introducoes` no servidor do NTMST no Discord, incluindo o curso de formação ou com qual tem vínculo atualmente, quanto de contato já teve com programação ou Python, e expectativas para o curso.\n",
    "\n",
    "Depois, os instrutores apresentaram a dinâmica planejada para o curso."
   ]
  },
  {
   "cell_type": "markdown",
   "metadata": {},
   "source": [
    "### Ferramentas do curso\n",
    "Foram apresentadas as principais ferramentas que serão utilizadas no decorrer do curso de Python, incluindo:\n",
    "  - Discord\n",
    "  - GitHub\n",
    "  - VSCode (e extensões)\n",
    "  - Python\n",
    "  - Jupyter"
   ]
  },
  {
   "cell_type": "markdown",
   "metadata": {},
   "source": [
    "### Fork e clone do repositório de template"
   ]
  },
  {
   "cell_type": "markdown",
   "metadata": {},
   "source": [
    "### 'ola mundo'\n",
    "\n",
    "A função `print()` \"*imprime*\", na linha de comando, o conteúdo indicado dentro dos parênteses. Este conteúdo pode ser um valor do tipo **string**, isto é, de texto, como é o caso aqui. *Strings* devem vir entre aspas (`\" \"`) ou apóstrofos (`' '`).\n"
   ]
  },
  {
   "cell_type": "code",
   "execution_count": 1,
   "metadata": {},
   "outputs": [
    {
     "name": "stdout",
     "output_type": "stream",
     "text": [
      "ola mundo\n"
     ]
    }
   ],
   "source": [
    "print('ola mundo')"
   ]
  }
 ],
 "metadata": {
  "kernelspec": {
   "display_name": "Python 3",
   "language": "python",
   "name": "python3"
  },
  "language_info": {
   "codemirror_mode": {
    "name": "ipython",
    "version": 3
   },
   "file_extension": ".py",
   "mimetype": "text/x-python",
   "name": "python",
   "nbconvert_exporter": "python",
   "pygments_lexer": "ipython3",
   "version": "3.12.3"
  }
 },
 "nbformat": 4,
 "nbformat_minor": 2
}
